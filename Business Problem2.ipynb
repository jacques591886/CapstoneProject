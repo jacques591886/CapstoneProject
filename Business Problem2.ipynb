{
 "cells": [
  {
   "cell_type": "code",
   "execution_count": null,
   "metadata": {},
   "outputs": [],
   "source": []
  },
  {
   "cell_type": "markdown",
   "metadata": {},
   "source": [
    "### Capstone Project - (Week 1)"
   ]
  },
  {
   "cell_type": "markdown",
   "metadata": {},
   "source": [
    "## Business Problem"
   ]
  },
  {
   "cell_type": "markdown",
   "metadata": {},
   "source": [
    "Chicago is a very diverse city and one of the largest in the US. When it comes to food, the city has a lot to offer. \n",
    "For instance, every year in July, the city hosts a food festival called “Taste of Chicago”. It is held for five days in Grant Park, one of the biggest park downtown. The event is the largest festival in Chicago. During this event, one can experience some local specialties as well as some ethnic food. \n",
    "\n",
    "However, during the remainder of the year, one might be wondering where to find the best ethnic restaurant in city. \n",
    "The city has about 200 neighborhoods and about 77 community areas. With a population of more than 2.7 million, it may not be easy to decide where to open a new restaurant if one wanted to. \n",
    "\n",
    "In this project, I will build a map of Chicago showing the population density per area, then I will explore the different type of restaurants available and finally see where one could open a new “ethnic” restaurant. \n",
    "\n",
    "The target audience could be any business person trying to take advantage of the food festival to build a sustainable business in the restaurant industry or more generally restaurant franchises looking to enter many neighborhood in the city. \n"
   ]
  },
  {
   "cell_type": "markdown",
   "metadata": {},
   "source": [
    "## Data"
   ]
  },
  {
   "cell_type": "markdown",
   "metadata": {},
   "source": [
    "After a few hours of research, I was able to find the following is a link of some US city with their local areas and geolocations. \n",
    "\n",
    "https://geo.nyu.edu/catalog/stanford-xq082nw3443\n",
    "\n",
    "I will exploit this file to extract the relevant data pertaining to Chicago. \n",
    " \n",
    "\n",
    "We will also use the foursquare API, with the credentials we created during the lab session on foursquare to explore the different areas and cluster them. \n",
    "\n",
    "Finally, we may use geocoder if needed as we move along with the project. \n",
    "\n",
    "\n",
    "here are the example of data that can be extracted from the data set\n",
    "* <b>The State  (we will later filter IL as this analysis is for Chicago)\n",
    "* <b>The City <b/>, here we will analyze \"Chicago\"\n",
    "* <b>The neighborhood <b/>, which can be found in the property \"name\"\n",
    "* <b>The population density <b/>, in the \"popdensity\" property. \n",
    "\n",
    "\n",
    "We will extract these properties as well as the latitude and longitude of each neighborhood to construct the data frame to be used. \n",
    "\n"
   ]
  },
  {
   "cell_type": "code",
   "execution_count": null,
   "metadata": {},
   "outputs": [],
   "source": []
  }
 ],
 "metadata": {
  "kernelspec": {
   "display_name": "Python 3",
   "language": "python",
   "name": "python3"
  },
  "language_info": {
   "codemirror_mode": {
    "name": "ipython",
    "version": 3
   },
   "file_extension": ".py",
   "mimetype": "text/x-python",
   "name": "python",
   "nbconvert_exporter": "python",
   "pygments_lexer": "ipython3",
   "version": "3.6.8"
  }
 },
 "nbformat": 4,
 "nbformat_minor": 2
}
